{
 "cells": [
  {
   "cell_type": "markdown",
   "id": "99419f95",
   "metadata": {},
   "source": [
    "# Parsing csv to xlsx\n",
    "## Data Sources\n",
    "https://api.ehealth.gov.ua/api/services\n",
    "## Commit git\n",
    "- 3ed8a2e Start\n",
    "- 2550448b First read json\n"
   ]
  },
  {
   "cell_type": "code",
   "execution_count": 18,
   "id": "21af2e58",
   "metadata": {},
   "outputs": [],
   "source": [
    "import pandas as pd\n",
    "import re\n",
    "\n",
    "df = pd.read_json('./data/processed/services.json', \n",
    "                  orient='records')\n",
    "# конвертація datetime64[ns, UTC] в object ('2020-03-31') без часу\n",
    "for i in ['inserted_at', 'updated_at']:\n",
    "    df[i] = pd.to_datetime(df[i]).dt.date"
   ]
  },
  {
   "cell_type": "code",
   "execution_count": 20,
   "id": "7d7aa77a",
   "metadata": {},
   "outputs": [],
   "source": [
    "df.to_excel(\"./data/interim/first.xlsx\", index=False)"
   ]
  },
  {
   "cell_type": "markdown",
   "id": "085898f9",
   "metadata": {},
   "source": [
    "## Считування за допомогою модуля json"
   ]
  },
  {
   "cell_type": "code",
   "execution_count": 22,
   "id": "f69ea977",
   "metadata": {},
   "outputs": [],
   "source": [
    "import json\n",
    "# считування json файла в пітоновський словник type(data) -> dict\n",
    "with open('./data/raw/services.json', 'r', encoding='UTF-8') as file:\n",
    "    dct = json.load(file)"
   ]
  },
  {
   "cell_type": "code",
   "execution_count": null,
   "id": "0f933c2a",
   "metadata": {},
   "outputs": [],
   "source": []
  }
 ],
 "metadata": {
  "kernelspec": {
   "display_name": "Python 3 (ipykernel)",
   "language": "python",
   "name": "python3"
  },
  "language_info": {
   "codemirror_mode": {
    "name": "ipython",
    "version": 3
   },
   "file_extension": ".py",
   "mimetype": "text/x-python",
   "name": "python",
   "nbconvert_exporter": "python",
   "pygments_lexer": "ipython3",
   "version": "3.9.13"
  }
 },
 "nbformat": 4,
 "nbformat_minor": 5
}
