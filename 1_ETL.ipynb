{
 "cells": [
  {
   "cell_type": "markdown",
   "id": "99419f95",
   "metadata": {},
   "source": [
    "# Parsing csv to xlsx\n",
    "## Data Sources\n",
    "https://api.ehealth.gov.ua/api/services\n",
    "## Commit git\n",
    "- 3ed8a2e Start\n"
   ]
  },
  {
   "cell_type": "code",
   "execution_count": 30,
   "id": "13fcaabc",
   "metadata": {},
   "outputs": [],
   "source": [
    "import pandas as pd\n",
    "import re"
   ]
  },
  {
   "cell_type": "code",
   "execution_count": 57,
   "id": "bd83e44b",
   "metadata": {},
   "outputs": [
    {
     "data": {
      "text/html": [
       "<div>\n",
       "<style scoped>\n",
       "    .dataframe tbody tr th:only-of-type {\n",
       "        vertical-align: middle;\n",
       "    }\n",
       "\n",
       "    .dataframe tbody tr th {\n",
       "        vertical-align: top;\n",
       "    }\n",
       "\n",
       "    .dataframe thead th {\n",
       "        text-align: right;\n",
       "    }\n",
       "</style>\n",
       "<table border=\"1\" class=\"dataframe\">\n",
       "  <thead>\n",
       "    <tr style=\"text-align: right;\">\n",
       "      <th></th>\n",
       "      <th>code</th>\n",
       "      <th>id</th>\n",
       "      <th>inserted_at</th>\n",
       "      <th>inserted_by</th>\n",
       "      <th>is_active</th>\n",
       "      <th>name</th>\n",
       "      <th>request_allowed</th>\n",
       "      <th>services</th>\n",
       "      <th>updated_at</th>\n",
       "      <th>updated_by</th>\n",
       "    </tr>\n",
       "  </thead>\n",
       "  <tbody>\n",
       "    <tr>\n",
       "      <th>0</th>\n",
       "      <td>K41993</td>\n",
       "      <td>f3ec9dbd-dce5-4a86-b21a-7b4fff03ac1e</td>\n",
       "      <td>2020-03-31 19:52:32.645167+00:00</td>\n",
       "      <td>4261eacf-8008-4e62-899f-de1e2f7065f0</td>\n",
       "      <td>True</td>\n",
       "      <td>Цифрова субтракційна ангіографія грудної клітки</td>\n",
       "      <td>True</td>\n",
       "      <td>[{'category': 'imaging', 'code': '60012-00', '...</td>\n",
       "      <td>2020-03-31 19:52:32.645167+00:00</td>\n",
       "      <td>4261eacf-8008-4e62-899f-de1e2f7065f0</td>\n",
       "    </tr>\n",
       "    <tr>\n",
       "      <th>1</th>\n",
       "      <td>L41985</td>\n",
       "      <td>f6f10ba1-3674-4808-afa2-ba30e65d2a37</td>\n",
       "      <td>2020-03-31 19:52:32.645167+00:00</td>\n",
       "      <td>4261eacf-8008-4e62-899f-de1e2f7065f0</td>\n",
       "      <td>True</td>\n",
       "      <td>Артрографія</td>\n",
       "      <td>True</td>\n",
       "      <td>[{'category': 'imaging', 'code': '59751-00', '...</td>\n",
       "      <td>2020-03-31 19:52:32.645167+00:00</td>\n",
       "      <td>4261eacf-8008-4e62-899f-de1e2f7065f0</td>\n",
       "    </tr>\n",
       "  </tbody>\n",
       "</table>\n",
       "</div>"
      ],
      "text/plain": [
       "     code                                    id  \\\n",
       "0  K41993  f3ec9dbd-dce5-4a86-b21a-7b4fff03ac1e   \n",
       "1  L41985  f6f10ba1-3674-4808-afa2-ba30e65d2a37   \n",
       "\n",
       "                       inserted_at                           inserted_by  \\\n",
       "0 2020-03-31 19:52:32.645167+00:00  4261eacf-8008-4e62-899f-de1e2f7065f0   \n",
       "1 2020-03-31 19:52:32.645167+00:00  4261eacf-8008-4e62-899f-de1e2f7065f0   \n",
       "\n",
       "   is_active                                             name  \\\n",
       "0       True  Цифрова субтракційна ангіографія грудної клітки   \n",
       "1       True                                      Артрографія   \n",
       "\n",
       "   request_allowed                                           services  \\\n",
       "0             True  [{'category': 'imaging', 'code': '60012-00', '...   \n",
       "1             True  [{'category': 'imaging', 'code': '59751-00', '...   \n",
       "\n",
       "                        updated_at                            updated_by  \n",
       "0 2020-03-31 19:52:32.645167+00:00  4261eacf-8008-4e62-899f-de1e2f7065f0  \n",
       "1 2020-03-31 19:52:32.645167+00:00  4261eacf-8008-4e62-899f-de1e2f7065f0  "
      ]
     },
     "execution_count": 57,
     "metadata": {},
     "output_type": "execute_result"
    }
   ],
   "source": [
    "pd.read_json('./data/interim/test2.json', orient='records')"
   ]
  },
  {
   "cell_type": "code",
   "execution_count": null,
   "id": "56c6c925",
   "metadata": {},
   "outputs": [],
   "source": []
  }
 ],
 "metadata": {
  "kernelspec": {
   "display_name": "Python 3 (ipykernel)",
   "language": "python",
   "name": "python3"
  },
  "language_info": {
   "codemirror_mode": {
    "name": "ipython",
    "version": 3
   },
   "file_extension": ".py",
   "mimetype": "text/x-python",
   "name": "python",
   "nbconvert_exporter": "python",
   "pygments_lexer": "ipython3",
   "version": "3.9.13"
  }
 },
 "nbformat": 4,
 "nbformat_minor": 5
}
