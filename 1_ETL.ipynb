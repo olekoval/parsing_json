{
 "cells": [
  {
   "cell_type": "markdown",
   "id": "99419f95",
   "metadata": {},
   "source": [
    "# Parsing csv to xlsx\n",
    "## Data Sources\n",
    "https://api.ehealth.gov.ua/api/services\n",
    "## Commit git\n",
    "- 3ed8a2e Start\n",
    "- 2550448b First read json\n",
    "- 75c0f119c modul json\n",
    "- efbb4001 del dct\n",
    "- 87d560a2 write parsing_1.xlsx parsing_2.xlsx\n",
    "- 810eb9e6 write parsing_3.xlsx\n",
    "- 780ca100 OK\n",
    "- c98c8c1f write clas_6.xlsx\n"
   ]
  },
  {
   "cell_type": "code",
   "execution_count": 52,
   "id": "21af2e58",
   "metadata": {},
   "outputs": [],
   "source": [
    "import pandas as pd\n",
    "import re\n",
    "\n",
    "df = pd.read_json('./data/processed/services.json', \n",
    "                  orient='records')\n",
    "# конвертація datetime64[ns, UTC] в object ('2020-03-31') без часу\n",
    "for i in ['inserted_at', 'updated_at']:\n",
    "    df[i] = pd.to_datetime(df[i]).dt.date\n",
    "\n",
    "df.to_excel(\"./data/interim/first.xlsx\", index=False)"
   ]
  },
  {
   "cell_type": "markdown",
   "id": "aa7c9a0d",
   "metadata": {},
   "source": [
    "## Считування за допомогою модуля json"
   ]
  },
  {
   "cell_type": "code",
   "execution_count": 17,
   "id": "f69ea977",
   "metadata": {},
   "outputs": [],
   "source": [
    "import json\n",
    "import openpyxl\n",
    "\n",
    "# считування json файла в пітоновський словник type(data) -> dict\n",
    "with open('./data/raw/services.json', 'r', encoding='UTF-8') as file:\n",
    "    dct = json.load(file)\n",
    "\n",
    "with open('./data/processed/clas_6.json', 'r', encoding='UTF-8') as file:\n",
    "    clas_6 = json.load(file)    "
   ]
  },
  {
   "cell_type": "code",
   "execution_count": 18,
   "id": "159104dc",
   "metadata": {},
   "outputs": [],
   "source": [
    "cl = ['Клас 5', 'Клас 14', 'Клас 17', 'Клас 4',\n",
    "     'Клас 10', 'Клас 8', 'Клас 18', 'Клас 2',\n",
    "     'Клас 9', 'Клас 15', 'Клас 19', 'Клас 12',\n",
    "     'Клас 16', 'Клас 3', 'Клас 20', 'Клас 1',\n",
    "     'Клас 13', 'Клас 11', 'Клас 7', 'LAB000',\n",
    "     'Клас 6']\n",
    "\n",
    "wb = openpyxl.Workbook()\n",
    "ws = wb.active\n",
    "ws['A1'] = 'cod'\n",
    "ws['B1'] = 'description'\n",
    "row = 2\n",
    "for i in dct['data']:\n",
    "    if i['code'] not in cl:\n",
    "        ws.cell(row, column=1).value = i['code']\n",
    "        ws.cell(row, column=2).value = i['name']\n",
    "        row += 1\n",
    "wb.save('./data/interim/parsing_1.xlsx')"
   ]
  },
  {
   "cell_type": "code",
   "execution_count": 19,
   "id": "fcb330bf",
   "metadata": {},
   "outputs": [],
   "source": [
    "wb = openpyxl.Workbook()\n",
    "ws = wb.active\n",
    "ws['A1'] = 'cod'\n",
    "ws['B1'] = 'cod2'\n",
    "ws['C1'] = 'description'\n",
    "row = 2\n",
    "for i in dct['data']:\n",
    "    if i['code'] not in cl:\n",
    "        for j in i['services']:\n",
    "            ws.cell(row, column=1).value = i['name']\n",
    "            ws.cell(row, column=2).value = i['code']\n",
    "            ws.cell(row, column=3).value = j['code']\n",
    "            ws.cell(row, column=4).value = j['name']\n",
    "            row += 1\n",
    "wb.save('./data/interim/parsing_2.xlsx')"
   ]
  },
  {
   "cell_type": "code",
   "execution_count": 20,
   "id": "2e3ea6fb",
   "metadata": {},
   "outputs": [],
   "source": [
    "wb1 = openpyxl.Workbook()\n",
    "ws1 = wb1.active\n",
    "ws1['A1'] = 'cod'\n",
    "ws1['B1'] = 'cod2'\n",
    "ws1['C1'] = 'cod3'\n",
    "ws1['D1'] = 'description'\n",
    "\n",
    "cll = cl[:-1]\n",
    "row = 2\n",
    "for i in dct['data']:\n",
    "    if i['code'] in cll:\n",
    "        for j in i['groups']:\n",
    "            for k in j['groups']:\n",
    "                for h in k['services']:\n",
    "                    ws1.cell(row, column=1).value = i['code']\n",
    "                    ws1.cell(row, column=2).value = j['code']\n",
    "                    ws1.cell(row, column=3).value = k['code']\n",
    "                    ws1.cell(row, column=4).value = k['name']\n",
    "                    ws1.cell(row, column=5).value = h['category']\n",
    "                    ws1.cell(row, column=6).value = h['code']\n",
    "                    ws1.cell(row, column=7).value = h['name']\n",
    "                    row += 1     \n",
    "                    \n",
    "\n",
    "wb1.save('./data/interim/parsing_3.xlsx')"
   ]
  },
  {
   "cell_type": "code",
   "execution_count": 21,
   "id": "d72b5ef9",
   "metadata": {},
   "outputs": [],
   "source": [
    "wb = openpyxl.Workbook()\n",
    "ws = wb.active\n",
    "\n",
    "ws['A1'] = 'class'\n",
    "ws['B1'] = 'class_name'\n",
    "ws['C1'] = 'cod'\n",
    "ws['D1'] = 'cod_name'\n",
    "ws['E1'] = 'type'\n",
    "ws['F1'] = 'cod_intervention'\n",
    "ws['G1'] = 'intervention_name'\n",
    "\n",
    "dct = clas_6['data'][0]\n",
    "row = 2\n",
    "for item in dct['groups']:\n",
    "    for service in item['services']:\n",
    "        ws.cell(row, column=1).value = dct['code']\n",
    "        ws.cell(row, column=2).value = dct['name']\n",
    "        ws.cell(row, column=3).value = item['code']\n",
    "        ws.cell(row, column=4).value = item['name']\n",
    "        ws.cell(row, column=5).value = service['category']\n",
    "        ws.cell(row, column=6).value = service['code']\n",
    "        ws.cell(row, column=7).value = service['name']\n",
    "        row += 1 \n",
    "        \n",
    "                    \n",
    "ws.column_dimensions['A'].width = 6 \n",
    "ws.column_dimensions['B'].width = 26 \n",
    "ws.column_dimensions['C'].width = 4 \n",
    "ws.column_dimensions['D'].width = 64 \n",
    "ws.column_dimensions['E'].width = 20 \n",
    "ws.column_dimensions['F'].width = 16 \n",
    "ws.column_dimensions['G'].width = 144 \n",
    "\n",
    "wb.save('./data/processed/AKMI_clas_6.xlsx')    "
   ]
  },
  {
   "cell_type": "code",
   "execution_count": null,
   "id": "da5384cb",
   "metadata": {},
   "outputs": [],
   "source": []
  }
 ],
 "metadata": {
  "kernelspec": {
   "display_name": "Python 3 (ipykernel)",
   "language": "python",
   "name": "python3"
  },
  "language_info": {
   "codemirror_mode": {
    "name": "ipython",
    "version": 3
   },
   "file_extension": ".py",
   "mimetype": "text/x-python",
   "name": "python",
   "nbconvert_exporter": "python",
   "pygments_lexer": "ipython3",
   "version": "3.9.13"
  }
 },
 "nbformat": 4,
 "nbformat_minor": 5
}
