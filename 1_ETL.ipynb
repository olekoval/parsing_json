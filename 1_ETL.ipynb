{
 "cells": [
  {
   "cell_type": "markdown",
   "id": "99419f95",
   "metadata": {},
   "source": [
    "# Parsing csv to xlsx\n",
    "## Data Sources\n",
    "https://api.ehealth.gov.ua/api/services\n",
    "## Commit git\n"
   ]
  },
  {
   "cell_type": "code",
   "execution_count": 14,
   "id": "0b0ef237",
   "metadata": {},
   "outputs": [],
   "source": [
    "import pandas as pd"
   ]
  },
  {
   "cell_type": "code",
   "execution_count": 16,
   "id": "c715df6d",
   "metadata": {},
   "outputs": [],
   "source": [
    "# df = pd.read_json('./data/processed/services.json') "
   ]
  },
  {
   "cell_type": "code",
   "execution_count": 23,
   "id": "06f5074d",
   "metadata": {},
   "outputs": [
    {
     "name": "stdout",
     "output_type": "stream",
     "text": [
      "\"code\":\"K41993\",\"id\":\"f3ec9dbd-dce5-4a86-b21a-7b4fff03ac1e\",\"inserted_at\":\"2020-03-31T19:52:32.645167Z\",\"inserted_by\":\"4261eacf-8008-4e62-899f-de1e2f7065f0\",\"is_active\":true,\"name\":\"Цифрова субтракційна ангіографія грудної клітки\",\"request_allowed\":true,\"\n"
     ]
    }
   ],
   "source": [
    "with open(\"./data/processed/test.txt\", \"r\", encoding='UTF-8') as file:\n",
    "    for line in file:\n",
    "        print(line)"
   ]
  },
  {
   "cell_type": "code",
   "execution_count": null,
   "id": "e8ce3fc1",
   "metadata": {},
   "outputs": [],
   "source": []
  }
 ],
 "metadata": {
  "kernelspec": {
   "display_name": "Python 3 (ipykernel)",
   "language": "python",
   "name": "python3"
  },
  "language_info": {
   "codemirror_mode": {
    "name": "ipython",
    "version": 3
   },
   "file_extension": ".py",
   "mimetype": "text/x-python",
   "name": "python",
   "nbconvert_exporter": "python",
   "pygments_lexer": "ipython3",
   "version": "3.9.13"
  }
 },
 "nbformat": 4,
 "nbformat_minor": 5
}
